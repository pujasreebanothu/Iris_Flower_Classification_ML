{
 "cells": [
  {
   "cell_type": "markdown",
   "id": "7f901c22",
   "metadata": {},
   "source": [
    "# Iris Flower Classification Project\n",
    "\n",
    "## Introduction\n",
    "\n",
    "This project explores the fascinating world of machine learning through the lens of the Iris flower dataset, one of the most famous datasets used for classification tasks. Our objective is to build a predictive model capable of distinguishing between the three species of Iris flowers — setosa, versicolor, and virginica — based on the physical dimensions of their petals and sepals. By applying machine learning techniques, we aim to uncover the patterns that define the uniqueness of each species.\n"
   ]
  },
  {
   "cell_type": "markdown",
   "id": "4e3b5580",
   "metadata": {},
   "source": [
    "## Data Loading and Preprocessing\n",
    "\n",
    "The dataset is loaded from a CSV file named `Iris (1).csv`. The preprocessing steps involve removing the 'Id' column, as it does not contribute to the model's ability to learn the classification task. Additionally, the categorical 'Species' column is encoded into numerical form, enabling the machine learning algorithms to process the labels.\n"
   ]
  },
  {
   "cell_type": "code",
   "execution_count": 15,
   "id": "3953d34c",
   "metadata": {},
   "outputs": [],
   "source": [
    "import pandas as pd\n",
    "from sklearn.model_selection import train_test_split\n",
    "from sklearn.preprocessing import LabelEncoder\n",
    "\n",
    "# Load the dataset directly as it is in the current working directory\n",
    "iris_data = pd.read_csv('Iris (1).csv')\n",
    "\n",
    "# Drop the 'Id' column as it's not needed for modeling\n",
    "iris_data.drop('Id', axis=1, inplace=True)\n",
    "\n",
    "# Encode the 'Species' column\n",
    "le = LabelEncoder()\n",
    "iris_data['Species'] = le.fit_transform(iris_data['Species'])\n",
    "\n",
    "# Split the dataset into features (X) and the target variable (y)\n",
    "X = iris_data.drop('Species', axis=1)\n",
    "y = iris_data['Species']\n",
    "\n",
    "# Split the dataset into training (70%) and testing (30%) sets\n",
    "X_train, X_test, y_train, y_test = train_test_split(X, y, test_size=0.3, random_state=42)\n"
   ]
  },
  {
   "cell_type": "markdown",
   "id": "0fe5e75c",
   "metadata": {},
   "source": [
    "## Model Selection and Training\n",
    "\n",
    "For this classification task, the k-Nearest Neighbors (k-NN) algorithm was chosen due to its simplicity and efficiency in handling small datasets like ours. The k-NN algorithm works by finding the 'k' training samples closest in distance to a new point and predicts the label from these. The model is trained with `n_neighbors=3`, a choice made based on preliminary experiments and literature that suggests a small k value often works well for simple classification tasks.\n"
   ]
  },
  {
   "cell_type": "code",
   "execution_count": 16,
   "id": "4a66a004",
   "metadata": {},
   "outputs": [],
   "source": [
    "from sklearn.neighbors import KNeighborsClassifier\n",
    "\n",
    "# Initialize the k-NN classifier with k=3\n",
    "knn = KNeighborsClassifier(n_neighbors=3)\n",
    "\n",
    "# Train the classifier on the training data\n",
    "knn.fit(X_train, y_train)\n",
    "\n",
    "# Predict on the test data\n",
    "y_pred = knn.predict(X_test)\n"
   ]
  },
  {
   "cell_type": "markdown",
   "id": "b4b338a8",
   "metadata": {},
   "source": [
    "## Model Evaluation\n",
    "\n",
    "To assess the performance of our k-Nearest Neighbors model, we employ several metrics: accuracy, the confusion matrix, and the classification report. \n",
    "\n",
    "- **Accuracy** measures the proportion of correct predictions over the total number of instances evaluated.\n",
    "- The **confusion matrix** provides insight into the types of errors made by the classifier.\n",
    "- The **classification report** shows key metrics such as precision, recall, and f1-score, offering a more detailed view of the model's performance across the different classes.\n"
   ]
  },
  {
   "cell_type": "code",
   "execution_count": 18,
   "id": "a6ed7033",
   "metadata": {},
   "outputs": [
    {
     "name": "stdout",
     "output_type": "stream",
     "text": [
      "Accuracy: 100.00%\n",
      "\n",
      "Classification Report:\n",
      "                  precision    recall  f1-score   support\n",
      "\n",
      "    Iris-setosa       1.00      1.00      1.00        19\n",
      "Iris-versicolor       1.00      1.00      1.00        13\n",
      " Iris-virginica       1.00      1.00      1.00        13\n",
      "\n",
      "       accuracy                           1.00        45\n",
      "      macro avg       1.00      1.00      1.00        45\n",
      "   weighted avg       1.00      1.00      1.00        45\n",
      "\n",
      "\n",
      "Confusion Matrix:\n",
      " [[19  0  0]\n",
      " [ 0 13  0]\n",
      " [ 0  0 13]]\n"
     ]
    }
   ],
   "source": [
    "from sklearn.metrics import classification_report, confusion_matrix, accuracy_score\n",
    "\n",
    "# Calculate the accuracy\n",
    "accuracy = accuracy_score(y_test, y_pred)\n",
    "\n",
    "# Generate a classification report\n",
    "class_report = classification_report(y_test, y_pred, target_names=le.classes_)\n",
    "\n",
    "# Create a confusion matrix\n",
    "conf_matrix = confusion_matrix(y_test, y_pred)\n",
    "\n",
    "# Print out the results\n",
    "print(f\"Accuracy: {accuracy * 100:.2f}%\")\n",
    "print(\"\\nClassification Report:\\n\", class_report)\n",
    "print(\"\\nConfusion Matrix:\\n\", conf_matrix)\n"
   ]
  },
  {
   "cell_type": "markdown",
   "id": "b2e8ed65",
   "metadata": {},
   "source": [
    "## Cross-Validation\n",
    "\n",
    "To further validate the stability and reliability of our k-Nearest Neighbors model, we apply 10-fold cross-validation. This method divides the dataset into ten parts, trains the model on nine parts, and tests it on the remaining part. This process is repeated ten times, ensuring that each part of the dataset is used for testing exactly once. Cross-validation provides a more accurate measure of model performance, mitigating the variability that can result from a single train-test split.\n"
   ]
  },
  {
   "cell_type": "code",
   "execution_count": 19,
   "id": "870a9ed5",
   "metadata": {},
   "outputs": [
    {
     "name": "stdout",
     "output_type": "stream",
     "text": [
      "CV Scores: [1.         0.93333333 1.         0.93333333 0.86666667 1.\n",
      " 0.93333333 1.         1.         1.        ]\n",
      "CV Average Score: 0.9667\n"
     ]
    }
   ],
   "source": [
    "from sklearn.model_selection import cross_val_score\n",
    "\n",
    "# Using the k-NN model as an example\n",
    "knn_cv = KNeighborsClassifier(n_neighbors=3)\n",
    "\n",
    "# 10-fold cross-validation\n",
    "cv_scores = cross_val_score(knn_cv, X, y, cv=10)\n",
    "\n",
    "print(f\"CV Scores: {cv_scores}\")\n",
    "print(f\"CV Average Score: {cv_scores.mean():.4f}\")\n"
   ]
  },
  {
   "cell_type": "markdown",
   "id": "6b582430",
   "metadata": {},
   "source": [
    "## Model Comparison\n",
    "\n",
    "To ensure we have the best model for our Iris flower classification task, it's essential to compare the performance of several machine learning algorithms. This comparison includes not only our initial k-Nearest Neighbors model but also Decision Trees, Support Vector Machines (SVM), and Random Forests. By evaluating each model's accuracy through cross-validation, we can identify which model is most effective at predicting the species of Iris flowers.\n"
   ]
  },
  {
   "cell_type": "code",
   "execution_count": 22,
   "id": "bb46fb80",
   "metadata": {},
   "outputs": [
    {
     "name": "stdout",
     "output_type": "stream",
     "text": [
      "k-NN Accuracy: 0.9667\n",
      "Decision Tree Accuracy: 0.9600\n",
      "SVM Accuracy: 0.9733\n",
      "Random Forest Accuracy: 0.9667\n"
     ]
    }
   ],
   "source": [
    "from sklearn.tree import DecisionTreeClassifier\n",
    "from sklearn.svm import SVC\n",
    "from sklearn.ensemble import RandomForestClassifier\n",
    "\n",
    "# Initialize the models\n",
    "models = {\n",
    "    \"k-NN\": KNeighborsClassifier(n_neighbors=3),\n",
    "    \"Decision Tree\": DecisionTreeClassifier(),\n",
    "    \"SVM\": SVC(),\n",
    "    \"Random Forest\": RandomForestClassifier()\n",
    "}\n",
    "\n",
    "# Compare models using cross-validation\n",
    "for name, model in models.items():\n",
    "    cv_scores = cross_val_score(model, X, y, cv=10)\n",
    "    print(f\"{name} Accuracy: {cv_scores.mean():.4f}\")\n"
   ]
  },
  {
   "cell_type": "markdown",
   "id": "81919a0f",
   "metadata": {},
   "source": [
    "## Hyperparameter Tuning\n",
    "\n",
    "After comparing various models, we proceed to fine-tune the hyperparameters of our best-performing model. Hyperparameter tuning is crucial as it can significantly enhance a model's ability to make accurate predictions. For our k-Nearest Neighbors (k-NN) model, we will use GridSearchCV to search for the optimal number of neighbors (`n_neighbors`) that yields the highest cross-validation accuracy.\n"
   ]
  },
  {
   "cell_type": "code",
   "execution_count": 23,
   "id": "258e86e4",
   "metadata": {},
   "outputs": [
    {
     "name": "stdout",
     "output_type": "stream",
     "text": [
      "Best parameters: {'n_neighbors': 13}\n",
      "Best score: 0.9800\n"
     ]
    }
   ],
   "source": [
    "from sklearn.model_selection import GridSearchCV\n",
    "\n",
    "# Grid search for k-NN\n",
    "param_grid = {'n_neighbors': np.arange(1, 30)}\n",
    "knn_gs = GridSearchCV(KNeighborsClassifier(), param_grid, cv=10)\n",
    "knn_gs.fit(X, y)\n",
    "\n",
    "print(f\"Best parameters: {knn_gs.best_params_}\")\n",
    "print(f\"Best score: {knn_gs.best_score_:.4f}\")\n"
   ]
  },
  {
   "cell_type": "markdown",
   "id": "fa47c273",
   "metadata": {},
   "source": [
    "## Feature Importance and Insights\n",
    "\n",
    "Gaining insights into which features most significantly impact our model's predictions can provide valuable biological insights into the Iris species classification. For models like Random Forest, we can extract and visualize the feature importance, which quantifies how much each feature contributes to the model's decision-making process. This analysis can help in understanding the characteristics that differentiate the species from one another.\n"
   ]
  },
  {
   "cell_type": "code",
   "execution_count": 24,
   "id": "e965a104",
   "metadata": {},
   "outputs": [
    {
     "data": {
      "image/png": "[encoded data removed]",
      "text/plain": [
       "<Figure size 1000x700 with 1 Axes>"
      ]
     },
     "metadata": {},
     "output_type": "display_data"
    }
   ],
   "source": [
    "rf = RandomForestClassifier(n_estimators=100)\n",
    "rf.fit(X_train, y_train)\n",
    "\n",
    "# Extracting feature importance\n",
    "importances = rf.feature_importances_\n",
    "features = X.columns\n",
    "indices = np.argsort(importances)[::-1]\n",
    "\n",
    "# Visualizing the feature importance\n",
    "plt.figure(figsize=(10, 7))\n",
    "plt.title('Feature Importance in Predicting Iris Species')\n",
    "plt.bar(range(X_train.shape[1]), importances[indices], color=\"r\", align=\"center\")\n",
    "plt.xticks(range(X_train.shape[1]), features[indices], rotation=90)\n",
    "plt.xlim([-1, X_train.shape[1]])\n",
    "plt.show()\n"
   ]
  },
  {
   "cell_type": "markdown",
   "id": "110830d2",
   "metadata": {},
   "source": [
    "## Conclusion and Final Thoughts\n",
    "\n",
    "Through this project, we've navigated the end-to-end process of a machine learning task—from data preprocessing and model selection to evaluation and insight extraction. The Iris Flower Classification project illustrates the power of machine learning in deriving meaningful predictions and insights from data. As we've seen, different models and techniques can be applied to enhance our understanding and performance on the task.\n",
    "\n",
    "The exploration of feature importance further underscores the practical implications of our findings, offering a window into the biological distinctions between Iris species. Such insights are invaluable not only in the context of this project but also in broader applications where understanding the influence of specific features is crucial.\n",
    "\n",
    "Moving forward, there's always room for experimentation, such as trying out more sophisticated models, feature engineering techniques, or diving deeper into model interpretability. The field of machine learning is vast and constantly evolving, offering endless opportunities for learning and growth.\n"
   ]
  }
 ],
 "metadata": {
  "kernelspec": {
   "display_name": "Python 3 (ipykernel)",
   "language": "python",
   "name": "python3"
  },
  "language_info": {
   "codemirror_mode": {
    "name": "ipython",
    "version": 3
   },
   "file_extension": ".py",
   "mimetype": "text/x-python",
   "name": "python",
   "nbconvert_exporter": "python",
   "pygments_lexer": "ipython3",
   "version": "3.10.0"
  }
 },
 "nbformat": 4,
 "nbformat_minor": 5
}
